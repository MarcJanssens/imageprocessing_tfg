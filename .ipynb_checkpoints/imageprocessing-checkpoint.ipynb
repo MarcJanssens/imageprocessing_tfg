{
 "cells": [
  {
   "cell_type": "code",
   "execution_count": 1,
   "id": "599ccb4f",
   "metadata": {
    "scrolled": false
   },
   "outputs": [
    {
     "name": "stdout",
     "output_type": "stream",
     "text": [
      "Requirement already satisfied: pycimg in c:\\users\\janss\\anaconda3\\lib\\site-packages (2.0.2)\n",
      "Requirement already satisfied: numpy in c:\\users\\janss\\anaconda3\\lib\\site-packages (from pycimg) (1.23.5)\n",
      "Requirement already satisfied: opencv-python in c:\\users\\janss\\anaconda3\\lib\\site-packages (4.9.0.80)\n",
      "Requirement already satisfied: numpy>=1.17.0 in c:\\users\\janss\\anaconda3\\lib\\site-packages (from opencv-python) (1.23.5)\n"
     ]
    }
   ],
   "source": [
    "!pip install pycimg\n",
    "!pip install opencv-python\n",
    "\n",
    "from pycimg import CImg\n",
    "import numpy as np\n",
    "from scipy.ndimage import rotate\n",
    "import cv2\n",
    "from IPython.display import display, Image\n",
    "import math\n",
    "\n",
    "\n"
   ]
  },
  {
   "cell_type": "code",
   "execution_count": 2,
   "id": "351672d7",
   "metadata": {},
   "outputs": [],
   "source": [
    "#Variable global per fer-m'ho fàcil\n",
    "clicked_coordinates = []\n",
    "\n",
    "# Callback function for mouse click event\n",
    "def on_click(event, x, y, flags, param):\n",
    "    if event == cv2.EVENT_LBUTTONDOWN:\n",
    "        clicked_coordinates.append((x, y))\n",
    "\n",
    "path = 'images/brain/'"
   ]
  },
  {
   "cell_type": "code",
   "execution_count": 3,
   "id": "0cd6fcc3",
   "metadata": {},
   "outputs": [],
   "source": [
    "\n",
    "def distance(p1, p2):\n",
    "    return math.sqrt((p2[0] - p1[0])**2 + (p2[1] - p1[1])**2)\n",
    "\n",
    "def triangle_size(C1, C2, C3):\n",
    "    \n",
    "    A=distance(C1,C2)\n",
    "    B=distance(C1,C3)\n",
    "    C=distance(C2,C3)\n",
    "    \n",
    "    sizes = (A,B,C)\n",
    "    return list(sizes)\n",
    "\n",
    "\n",
    "def angle_between_points(p1, p2):\n",
    "    \n",
    "    p3 = (p1[0],p2[1])\n",
    "    \n",
    "    a = distance(p2, p3)\n",
    "    b = distance(p1, p3)\n",
    "    c = distance(p1, p2)\n",
    "    \n",
    "    cos_A = (c**2 + b**2 - a**2) / (2 * c * b)\n",
    "    angle_radians = math.acos(cos_A)\n",
    "    angle_degrees = math.degrees(angle_radians)\n",
    "    if(p2[0]>p1[0]):\n",
    "        angle_degrees=180-angle_degrees\n",
    "    return angle_degrees\n",
    "\n",
    "\n",
    "def triangle_center(point1, point2, point3):\n",
    "    # Calculate the average x-coordinate\n",
    "    center_x = (point1[0] + point2[0] + point3[0]) / 3\n",
    "    # Calculate the average y-coordinate\n",
    "    center_y = (point1[1] + point2[1] + point3[1]) / 3\n",
    "    return center_x, center_y\n"
   ]
  },
  {
   "cell_type": "code",
   "execution_count": 4,
   "id": "8d3a7a77",
   "metadata": {},
   "outputs": [],
   "source": [
    "\n",
    "# Load image using OpenCV\n",
    "image_path = path+'Brain_87.tiff'\n",
    "image = cv2.imread(image_path)\n",
    "\n",
    "# Display image using OpenCV\n",
    "cv2.namedWindow('image')\n",
    "cv2.imshow('image', image)\n",
    "\n",
    "# Set the mouse callback function for the OpenCV window\n",
    "cv2.setMouseCallback('image', on_click)\n",
    "\n",
    "cv2.waitKey(0)\n",
    "\n",
    "cv2.destroyAllWindows()\n"
   ]
  },
  {
   "cell_type": "code",
   "execution_count": 8,
   "id": "f264d004",
   "metadata": {},
   "outputs": [
    {
     "name": "stdout",
     "output_type": "stream",
     "text": [
      "[376.5859795584536, 292.6790050550261, 285.84261403786525]\n",
      "[376.3841123108147, 293.42460701175014, 284.01584462842914]\n"
     ]
    }
   ],
   "source": [
    "image_path_1 = path+'dibuix_1.png'\n",
    "image_path_2 = path+'dibuix_2.png'\n",
    "\n",
    "image_1 = cv2.imread(image_path_1)\n",
    "image_2 = cv2.imread(image_path_2)\n",
    "\n",
    "proc = False\n",
    "\n",
    "#Empty the saved coordinates\n",
    "clicked_coordinates=[]\n",
    "\n",
    "# Display image using OpenCV\n",
    "cv2.namedWindow('Primera Imatge')\n",
    "cv2.imshow('Primera Imatge', image_1)\n",
    "\n",
    "# Set the mouse callback function for the OpenCV window\n",
    "cv2.setMouseCallback('Primera Imatge', on_click)\n",
    "\n",
    "cv2.waitKey(0)\n",
    "\n",
    "cv2.destroyAllWindows()\n",
    "\n",
    "coord_1=(0,0)\n",
    "coord_2=(0,0)\n",
    "coord_3=(0,0)\n",
    "\n",
    "#Guardaré les tres últimes només abans del enter fent servir un stack\n",
    "if len(clicked_coordinates)>=3:\n",
    "    coord_1=clicked_coordinates.pop()\n",
    "    coord_2=clicked_coordinates.pop()\n",
    "    coord_3=clicked_coordinates.pop()\n",
    "    \n",
    "    sizes = triangle_size(coord_1,coord_2,coord_3)\n",
    "    print(sorted(sizes,reverse=True))\n",
    "\n",
    "    reference_degree = (angle_between_points(coord_2,coord_1))\n",
    "\n",
    "    clicked_coordinates=[]\n",
    "\n",
    "        # Display image using OpenCV\n",
    "    cv2.namedWindow('Segona imatge')\n",
    "    cv2.imshow('Segona imatge', image_2)\n",
    "\n",
    "    # Set the mouse callback function for the OpenCV window\n",
    "    cv2.setMouseCallback('Segona imatge', on_click)\n",
    "\n",
    "    cv2.waitKey(0)\n",
    "\n",
    "    cv2.destroyAllWindows()\n",
    "\n",
    "    coord_1=(0,0)\n",
    "    coord_2=(0,0)\n",
    "    coord_3=(0,0)\n",
    "\n",
    "    #Guardaré les tres últimes només abans del enter fent servir un stack\n",
    "    if len(clicked_coordinates)>=3:\n",
    "        coord_1=clicked_coordinates.pop()\n",
    "        coord_2=clicked_coordinates.pop()\n",
    "        coord_3=clicked_coordinates.pop()\n",
    "\n",
    "        sizes = triangle_size(coord_1,coord_2,coord_3)\n",
    "        print(sorted(sizes,reverse=True))\n",
    "\n",
    "        rotated_degree = (angle_between_points(coord_2,coord_1))\n",
    "\n",
    "        difference =(rotated_degree-reference_degree)\n",
    "    else:\n",
    "        print('2nd image: Click at least 3 times.')\n",
    "    \n",
    "else:\n",
    "    print('1st image: Click at least 3 times.')\n"
   ]
  },
  {
   "cell_type": "code",
   "execution_count": 9,
   "id": "a6f5311f",
   "metadata": {},
   "outputs": [
    {
     "name": "stdout",
     "output_type": "stream",
     "text": [
      "-15.670925773608516\n"
     ]
    }
   ],
   "source": [
    "height, width = image_2.shape[:2]\n",
    "print(difference)\n",
    "# Define the rotation angle (in degrees)\n",
    "angle = difference\n",
    "# Calculate the rotation matrix\n",
    "rotation_matrix = cv2.getRotationMatrix2D((coord_2), angle, 1)\n",
    "\n",
    "# Perform the rotation\n",
    "rotated_image = cv2.warpAffine(image_2, rotation_matrix, (width, height))\n",
    "\n",
    "\n"
   ]
  },
  {
   "cell_type": "code",
   "execution_count": 10,
   "id": "6784ff99",
   "metadata": {},
   "outputs": [],
   "source": [
    "# Display the original and rotated images (optional)\n",
    "cv2.imshow('Original Image', image_1)\n",
    "cv2.imshow('Rotated Image', rotated_image)\n",
    "cv2.waitKey(0)\n",
    "cv2.destroyAllWindows()"
   ]
  },
  {
   "cell_type": "code",
   "execution_count": null,
   "id": "e75cb645",
   "metadata": {},
   "outputs": [],
   "source": []
  }
 ],
 "metadata": {
  "kernelspec": {
   "display_name": "Python 3 (ipykernel)",
   "language": "python",
   "name": "python3"
  },
  "language_info": {
   "codemirror_mode": {
    "name": "ipython",
    "version": 3
   },
   "file_extension": ".py",
   "mimetype": "text/x-python",
   "name": "python",
   "nbconvert_exporter": "python",
   "pygments_lexer": "ipython3",
   "version": "3.9.13"
  }
 },
 "nbformat": 4,
 "nbformat_minor": 5
}
